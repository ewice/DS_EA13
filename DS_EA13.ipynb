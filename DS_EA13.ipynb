{
  "nbformat": 4,
  "nbformat_minor": 0,
  "metadata": {
    "colab": {
      "name": "Untitled2.ipynb",
      "provenance": [],
      "collapsed_sections": []
    },
    "kernelspec": {
      "name": "python3",
      "display_name": "Python 3"
    },
    "language_info": {
      "name": "python"
    }
  },
  "cells": [
    {
      "cell_type": "code",
      "execution_count": 4,
      "metadata": {
        "colab": {
          "base_uri": "https://localhost:8080/",
          "height": 241
        },
        "id": "_L2vCkiGmFrv",
        "outputId": "8fed3ea8-b50c-4398-9756-637595b72720"
      },
      "outputs": [
        {
          "output_type": "error",
          "ename": "FileNotFoundError",
          "evalue": "ignored",
          "traceback": [
            "\u001b[0;31m---------------------------------------------------------------------------\u001b[0m",
            "\u001b[0;31mFileNotFoundError\u001b[0m                         Traceback (most recent call last)",
            "\u001b[0;32m<ipython-input-4-251bf435a746>\u001b[0m in \u001b[0;36m<module>\u001b[0;34m()\u001b[0m\n\u001b[1;32m      1\u001b[0m \u001b[0;32mimport\u001b[0m \u001b[0mitertools\u001b[0m\u001b[0;34m\u001b[0m\u001b[0;34m\u001b[0m\u001b[0m\n\u001b[1;32m      2\u001b[0m \u001b[0mcontents\u001b[0m \u001b[0;34m=\u001b[0m \u001b[0;34m\"\"\u001b[0m\u001b[0;34m\u001b[0m\u001b[0;34m\u001b[0m\u001b[0m\n\u001b[0;32m----> 3\u001b[0;31m \u001b[0;32mwith\u001b[0m \u001b[0mopen\u001b[0m\u001b[0;34m(\u001b[0m\u001b[0;34m'data.txt'\u001b[0m\u001b[0;34m)\u001b[0m \u001b[0;32mas\u001b[0m \u001b[0mf\u001b[0m\u001b[0;34m:\u001b[0m\u001b[0;34m\u001b[0m\u001b[0;34m\u001b[0m\u001b[0m\n\u001b[0m\u001b[1;32m      4\u001b[0m     \u001b[0mcontents\u001b[0m \u001b[0;34m=\u001b[0m \u001b[0mf\u001b[0m\u001b[0;34m.\u001b[0m\u001b[0mread\u001b[0m\u001b[0;34m(\u001b[0m\u001b[0;34m)\u001b[0m\u001b[0;34m\u001b[0m\u001b[0;34m\u001b[0m\u001b[0m\n\u001b[1;32m      5\u001b[0m \u001b[0;34m\u001b[0m\u001b[0m\n",
            "\u001b[0;31mFileNotFoundError\u001b[0m: [Errno 2] No such file or directory: 'data.txt'"
          ]
        }
      ],
      "source": [
        "import itertools\n",
        "contents = \"\"\n",
        "with open('data.txt') as f:\n",
        "    contents = f.read()\n",
        "    \n",
        "def word_count(str):\n",
        "    counts = dict()\n",
        "    words = str.split()\n",
        "\n",
        "    for word in words:\n",
        "        word = word.lower()\n",
        "        if word in counts:\n",
        "            counts[word] += 1\n",
        "        else:\n",
        "            counts[word] = 1\n",
        "\n",
        "    return counts\n",
        "\n",
        "word_counts = word_count(contents)\n",
        "\n",
        "word_counts = dict(sorted(word_counts.items(), key=lambda item: item[1]))\n",
        "word_counts = dict(reversed(list(word_counts.items())))\n",
        "word_counts = dict(itertools.islice(word_counts.items(), 24))\n",
        "\n",
        "\n",
        "print(word_counts)\n",
        "\"\"\"\" \n",
        "Without lowercase\n",
        "{\n",
        "    'the': 23242,\n",
        "    'I': 19540, \n",
        "    'and': 18297, \n",
        "    'to': 15623, \n",
        "    'of': 15544, \n",
        "    'a': 12532, \n",
        "    'my': 10824, \n",
        "    'in': 9576, \n",
        "    'you': 9081, \n",
        "    'is': 7851, \n",
        "    'that': 7531, \n",
        "    'And': 7068, \n",
        "    'not': 6948, \n",
        "    'with': 6722, \n",
        "    'his': 6218, \n",
        "    'your': 6009, \n",
        "    'be': 6002, \n",
        "    'for': 5616, \n",
        "    'have': 5236, \n",
        "    'it': 4912, \n",
        "    'me': 4832, \n",
        "    'this': 4771, \n",
        "    'he': 4546, \n",
        "    'as': 4269\n",
        "}\n",
        "\n",
        "With lowercase on each word\n",
        "{\n",
        "    'the': 27547,\n",
        "    'and': 26031,\n",
        "    'i': 19540,\n",
        "    'to': 18700,\n",
        "    'of': 18004, \n",
        "    'a': 14383, \n",
        "    'my': 12455, \n",
        "    'in': 10671, \n",
        "    'you': 10630, \n",
        "    'that': 10485, \n",
        "    'is': 9141, \n",
        "    'for': 7976, \n",
        "    'with': 7929, \n",
        "    'not': 7641, \n",
        "    'your': 6869, \n",
        "    'his': 6749, \n",
        "    'be': 6698, \n",
        "    'but': 5886, \n",
        "    'he': 5884, \n",
        "    'this': 5882,\n",
        "    'as': 5880, \n",
        "    'it': 5869, \n",
        "    'have': 5682, \n",
        "    'thou': 5138\n",
        "}\n",
        "\"\"\""
      ]
    }
  ]
}